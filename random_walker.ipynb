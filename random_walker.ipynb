{
 "cells": [
  {
   "cell_type": "code",
   "execution_count": 16,
   "id": "fab91b71",
   "metadata": {},
   "outputs": [],
   "source": [
    "import numpy as np\n",
    "from numpy import random\n",
    "import matplotlib.pyplot as plt"
   ]
  },
  {
   "cell_type": "code",
   "execution_count": null,
   "id": "2c0b479d",
   "metadata": {},
   "outputs": [],
   "source": [
    "# In here we show how a random walk is generated, by taking a random choice of two possible moves 'up' or 'down'."
   ]
  },
  {
   "cell_type": "code",
   "execution_count": 63,
   "id": "ba3ceeee",
   "metadata": {},
   "outputs": [
    {
     "data": {
      "image/png": "[encoded data removed]",
      "text/plain": [
       "<Figure size 432x288 with 1 Axes>"
      ]
     },
     "metadata": {
      "needs_background": "light"
     },
     "output_type": "display_data"
    }
   ],
   "source": [
    "import numpy as np\n",
    "from numpy import random\n",
    "import matplotlib.pyplot as plt\n",
    "\n",
    "\n",
    "nstep = 5000\n",
    "pos_vec = np.zeros(nstep)\n",
    "pos_time = np.arange(0, nstep, 1)\n",
    "directions = [\"up\", \"down\"]\n",
    "\n",
    "\n",
    "for i in range(1,nstep,1):\n",
    "    p = random.choice(directions)\n",
    "    if p == \"down\":\n",
    "        pos_vec[i] = pos_vec[i-1]-1\n",
    "    else:\n",
    "        pos_vec[i] = pos_vec[i-1]+1\n",
    "\n",
    "        \n",
    "# plot config\n",
    "plt.rc('text', usetex=True)\n",
    "plt.rc('font', family='serif') \n",
    "plt.xlabel('$n$')\n",
    "plt.ylabel('$s_n$')\n",
    "        \n",
    "plt.plot(pos_time,pos_vec)\n",
    "plt.savefig('rd_walk.pdf')  \n",
    "plt.show()"
   ]
  },
  {
   "cell_type": "code",
   "execution_count": null,
   "id": "800fc26b",
   "metadata": {},
   "outputs": [],
   "source": [
    "# In this code we will compute the quadratic mean displacement (QMD) to verify that the QMD goes, in mean, as sqrt(N) where N\n",
    "# is the total number of steps in the random walk."
   ]
  },
  {
   "cell_type": "code",
   "execution_count": 32,
   "id": "f5257566",
   "metadata": {},
   "outputs": [
    {
     "name": "stdout",
     "output_type": "stream",
     "text": [
      "The QMD is 71.5396044160156±3.3827924679094465\n"
     ]
    }
   ],
   "source": [
    "import numpy as np\n",
    "from numpy import random\n",
    "import matplotlib.pyplot as plt\n",
    "\n",
    "nstep = 5000\n",
    "nexp = 200 #nexp is the total number of experiments we will use to measure the average QMD\n",
    "pos_time = np.arange(0, nstep, 1)\n",
    "directions = [\"up\", \"down\"]\n",
    "qdist = np.zeros(nexp)\n",
    "\n",
    "for k in range(1,nexp,1):\n",
    "    pos_vec = np.zeros(nstep)\n",
    "    x0 = 0\n",
    "    pos_vec[0] = x0\n",
    "    for i in range(1,nstep,1):\n",
    "        p = random.choice(directions)\n",
    "        if p == \"down\":\n",
    "            pos_vec[i] = pos_vec[i-1]-1\n",
    "        else:\n",
    "            pos_vec[i] = pos_vec[i-1]+1\n",
    "    qdist[k] = (pos_vec[0] - pos_vec[nstep-1])**2\n",
    "    \n",
    "# in here we have already filled qdist with the squared distance between the last step and the initial condition for each exp\n",
    "# let's now compute the expected value of the QD after N_exp experiments\n",
    "s = 0\n",
    "for i in range(1,nexp):\n",
    "    s = s + qdist[i]\n",
    "    \n",
    "sqQMD = np.sqrt(s/nexp)\n",
    "\n",
    "#print(sqQMD) #this is the square root of the mean value of the quadratic distance before performing N_exp experiments. Now we need to compute the dev\n",
    "# compute the statistical error on QMD\n",
    "s = 0\n",
    "for i in range(1,nexp):\n",
    "    s = s + (np.sqrt(qdist[i])-sqQMD)**2\n",
    "sqQMDerr = np.sqrt(s/(nexp*(nexp-1)))\n",
    "#print(stddev)\n",
    "\n",
    "print('The QMD is ' +str(sqQMD) + u\"\\u00B1\" +str(sqQMDerr))"
   ]
  },
  {
   "cell_type": "code",
   "execution_count": null,
   "id": "4aa36e45",
   "metadata": {},
   "outputs": [],
   "source": [
    "# in here we are going to compute the QMD for different number of steps in order to verify the theoretical predictions"
   ]
  },
  {
   "cell_type": "code",
   "execution_count": 57,
   "id": "af67fc45",
   "metadata": {},
   "outputs": [
    {
     "name": "stdout",
     "output_type": "stream",
     "text": [
      "[   5.    7.   10.   15.   22.   33.   49.   73.  109.  163.  244.  366.\n",
      "  549.  823. 1234. 1851. 2776. 4164.]\n"
     ]
    },
    {
     "data": {
      "image/png": "[encoded data removed]",
      "text/plain": [
       "<Figure size 432x288 with 1 Axes>"
      ]
     },
     "metadata": {
      "needs_background": "light"
     },
     "output_type": "display_data"
    }
   ],
   "source": [
    "import numpy as np\n",
    "from numpy import random\n",
    "import matplotlib.pyplot as plt\n",
    "\n",
    "\n",
    "numpoints = 18\n",
    "liststeps =np.zeros(numpoints)\n",
    "liststeps[0] = 5\n",
    "for i in range(1,numpoints,1):\n",
    "    liststeps[i] = int(liststeps[i-1]*1.5)\n",
    "\n",
    "vsqQMD = np.zeros(numpoints)\n",
    "vsqQMDerr = np.zeros(numpoints)\n",
    "    \n",
    "nexp = 200 #nexp is the total number of experiments we will use to measure the average QMD\n",
    "pos_time = np.arange(0, nstep, 1)\n",
    "directions = [\"up\", \"down\"]\n",
    "qdist = np.zeros(nexp)\n",
    "\n",
    "#print(liststeps) # un# this line to see which are the N_step simulations performed.\n",
    "\n",
    "r = 0\n",
    "for l in liststeps:\n",
    "    nstep = int(l)\n",
    "    for k in range(1,nexp,1):\n",
    "        pos_vec = np.zeros(nstep)\n",
    "        x0 = 0\n",
    "        pos_vec[0] = x0\n",
    "        for i in range(1,nstep,1):\n",
    "            p = random.choice(directions)\n",
    "            if p == \"down\":\n",
    "                pos_vec[i] = pos_vec[i-1]-1\n",
    "            else:\n",
    "                pos_vec[i] = pos_vec[i-1]+1\n",
    "        qdist[k] = (pos_vec[0] - pos_vec[nstep-1])**2\n",
    "    \n",
    "    # in here we have already filled qdist with the squared distance between the last step and the initial condition for each exp\n",
    "    # let's now compute the expected value of the QD after N_exp experiments\n",
    "    s = 0\n",
    "    for i in range(1,nexp):\n",
    "        s = s + qdist[i]\n",
    "    \n",
    "    sqQMD = np.sqrt(s/nexp)\n",
    "\n",
    "    #print(sqQMD) #this is the square root of the mean value of the quadratic distance before performing N_exp experiments. Now we need to compute the dev\n",
    "    # compute the statistical error on QMD\n",
    "    s = 0\n",
    "    for i in range(1,nexp):\n",
    "        s = s + (np.sqrt(qdist[i])-sqQMD)**2\n",
    "    sqQMDerr = np.sqrt(s/(nexp*(nexp-1)))\n",
    "    #print(stddev)\n",
    "    \n",
    "    vsqQMD[r] = sqQMD\n",
    "    vsqQMDerr[r] = sqQMDerr\n",
    "    r += 1\n",
    "    \n",
    "# plot config \n",
    "plt.rc('text', usetex=True)\n",
    "plt.rc('font', family='serif') \n",
    "plt.xlabel('$N$')\n",
    "plt.ylabel('QMD')\n",
    "   \n",
    "t = np.arange(0, liststeps[numpoints-1], 1)\n",
    "ft = np.sqrt(t)\n",
    "    \n",
    "\n",
    "plt.rc('text', usetex=True)\n",
    "plt.rc('font', family='serif') \n",
    "plt.xlabel('$n$')\n",
    "plt.ylabel('QMD')    \n",
    "    \n",
    "plt.errorbar(liststeps,vsqQMD,vsqQMDerr, fmt=\"d\", label=QMD)\n",
    "plt.plot(t, ft, color='red')\n",
    "\n",
    "plt.show()"
   ]
  },
  {
   "cell_type": "code",
   "execution_count": null,
   "id": "a9729399",
   "metadata": {
    "scrolled": true
   },
   "outputs": [],
   "source": [
    "# Enhanced version of the last plot. Figure in .png format is saved in the folder containing the .py files."
   ]
  },
  {
   "cell_type": "code",
   "execution_count": 69,
   "id": "518d0e3d",
   "metadata": {},
   "outputs": [
    {
     "data": {
      "image/png": "[encoded data removed]",
      "text/plain": [
       "<Figure size 432x288 with 1 Axes>"
      ]
     },
     "metadata": {
      "needs_background": "light"
     },
     "output_type": "display_data"
    }
   ],
   "source": [
    "plt.xlabel('$n$')\n",
    "plt.ylabel('QMD') \n",
    "\n",
    "\n",
    "plt.errorbar(liststeps,vsqQMD,vsqQMDerr, fmt=\"d\", label='QMD')\n",
    "plt.plot(t, ft, color='red', label = '$\\sqrt{n}$')\n",
    "plt.legend(loc=\"upper left\")\n",
    "plt.savefig('qmd.pdf')\n",
    "\n",
    "plt.show()"
   ]
  }
 ],
 "metadata": {
  "kernelspec": {
   "display_name": "Python 3",
   "language": "python",
   "name": "python3"
  },
  "language_info": {
   "codemirror_mode": {
    "name": "ipython",
    "version": 3
   },
   "file_extension": ".py",
   "mimetype": "text/x-python",
   "name": "python",
   "nbconvert_exporter": "python",
   "pygments_lexer": "ipython3",
   "version": "3.8.8"
  }
 },
 "nbformat": 4,
 "nbformat_minor": 5
}
